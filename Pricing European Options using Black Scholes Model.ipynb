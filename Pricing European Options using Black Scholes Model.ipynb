{
 "cells": [
  {
   "cell_type": "code",
   "execution_count": 2,
   "id": "c76a1976",
   "metadata": {},
   "outputs": [
    {
     "name": "stdout",
     "output_type": "stream",
     "text": [
      "Call Option Price: 3.02\n",
      "Put Option Price: 5.34\n"
     ]
    }
   ],
   "source": [
    "import numpy as np\n",
    "from scipy.stats import norm\n",
    "\n",
    "def black_scholes(strike_price, risk_free_rate, volatility, time_to_maturity, spot_price, option_type='call'):\n",
    "    \"\"\"\n",
    "    Calculate the Black-Scholes option price.\n",
    "\n",
    "    Parameters:\n",
    "    strike_price (float): The strike price of the option.\n",
    "    risk_free_rate (float): The annual risk-free interest rate (as a decimal).\n",
    "    volatility (float): The annual volatility of the underlying asset (as a decimal).\n",
    "    time_to_maturity (float): The time to maturity in years.\n",
    "    spot_price (float): The current price of the underlying asset.\n",
    "    option_type (str): 'call' for call option, 'put' for put option.\n",
    "\n",
    "    Returns:\n",
    "    float: The Black-Scholes price of the option.\n",
    "    \"\"\"\n",
    "    \n",
    "    # Calculate d1 and d2\n",
    "    d1 = (np.log(spot_price / strike_price) + (risk_free_rate + 0.5 * volatility ** 2) * time_to_maturity) / (volatility * np.sqrt(time_to_maturity))\n",
    "    d2 = d1 - volatility * np.sqrt(time_to_maturity)\n",
    "    \n",
    "    if option_type == 'call':\n",
    "        option_price = (spot_price * norm.cdf(d1)) - (strike_price * np.exp(-risk_free_rate * time_to_maturity) * norm.cdf(d2))\n",
    "    elif option_type == 'put':\n",
    "        option_price = (strike_price * np.exp(-risk_free_rate * time_to_maturity) * norm.cdf(-d2)) - (spot_price * norm.cdf(-d1))\n",
    "    else:\n",
    "        raise ValueError(\"option_type must be 'call' or 'put'\")\n",
    "    \n",
    "    return option_price\n",
    "\n",
    "spot_price = 50\n",
    "strike_price = 55\n",
    "risk_free_rate = 0.05\n",
    "volatility = 0.2\n",
    "time_to_maturity = 1\n",
    "\n",
    "call_price = black_scholes(strike_price, risk_free_rate, volatility, time_to_maturity, spot_price, option_type='call')\n",
    "put_price = black_scholes(strike_price, risk_free_rate, volatility, time_to_maturity, spot_price, option_type='put')\n",
    "print(f\"Call Option Price: {call_price:.2f}\")\n",
    "print(f\"Put Option Price: {put_price:.2f}\")\n"
   ]
  }
 ],
 "metadata": {
  "kernelspec": {
   "display_name": "Python 3",
   "language": "python",
   "name": "python3"
  },
  "language_info": {
   "codemirror_mode": {
    "name": "ipython",
    "version": 3
   },
   "file_extension": ".py",
   "mimetype": "text/x-python",
   "name": "python",
   "nbconvert_exporter": "python",
   "pygments_lexer": "ipython3",
   "version": "3.13.7"
  }
 },
 "nbformat": 4,
 "nbformat_minor": 5
}
